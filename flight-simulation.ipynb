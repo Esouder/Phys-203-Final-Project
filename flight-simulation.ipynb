{
 "cells": [
  {
   "cell_type": "markdown",
   "metadata": {},
   "source": [
    "# Temperature of the nosecone skin\n",
    "\n",
    "Research: Stagnation point is the temp we need to worry about - when the air is no longer moving and all it's energy is becoming heat.\n",
    "\n",
    "Energy flows into and out of nosecone through conduction, convection, radiation. \n",
    "\n",
    "Can perform an energy balance for the nosecone, flux in = flux out\n",
    "\n",
    "\n",
    "\n",
    "But first, \n",
    "\n",
    "will model the stagnation temperature over the flight. \n",
    "\n",
    "Stag temp is temp at stag point. Stag point is when all kinetic energy in air becomes heat\n",
    "\n",
    "\n",
    "\n",
    "Idealize as adiabatic compression of a gas:\n",
    "\n",
    "\n",
    "\n",
    "T"
   ]
  },
  {
   "cell_type": "code",
   "execution_count": 300,
   "metadata": {},
   "outputs": [
    {
     "data": {
      "image/png": "[encoded data removed]",
      "text/plain": [
       "<Figure size 432x288 with 1 Axes>"
      ]
     },
     "metadata": {
      "needs_background": "light"
     },
     "output_type": "display_data"
    }
   ],
   "source": [
    "# get the basic flight profile from feynman outputs\n",
    "# also wow this feynman data, holy floating bit math errors batman!\n",
    "import csv\n",
    "import math\n",
    "import numpy as np\n",
    "import matplotlib.pyplot as plt\n",
    "\n",
    "altitudes = []\n",
    "machs = []\n",
    "times = []\n",
    "\n",
    "with open('feynman-results.csv') as file:\n",
    "    reader = csv.DictReader(file)\n",
    "    for row in reader:\n",
    "        altitudes.append(float(row[\"Altitude (m)\"]))\n",
    "        machs.append(float(row[\"Mach Number\"]))\n",
    "        times.append(float(row[\"Times (s)\"]))\n",
    "\n",
    "P0 = []\n",
    "rho0 = []\n",
    "#rho here has issues/is wrong!\n",
    "for alt in altitudes:\n",
    "    alt=float(alt)\n",
    "    if(alt<= 25000):\n",
    "        P0.append(math.exp(4.43165 * math.pow(10,-14) * math.pow(alt,3) - 2.28553 * math.pow(10,-9) * pow(alt,2) - 1.14097 * pow(10,-4) * alt + 6.95109)) \n",
    "        rho0.append(math.exp(4.88158 * math.pow(10,-18) * math.pow(alt,4) - 1.808 * math.pow(10,-13) * pow(alt,3) + 2.432 * pow(10,-11) * pow(alt,2) - 9.693 * math.pow(10,-5) * alt + 0.1922))\n",
    "    elif(alt<= 75000):\n",
    "        P0.append(math.exp(-2.28179 * math.pow(10,-14) * math.pow(alt,3) + 3.34063 * math.pow(10,-9) * pow(alt,2) - 2.84655 * pow(10,-4) * alt + 8.73033))\n",
    "        rho0.append(math.exp(-6.034 * math.pow(10,-19) * math.pow(alt,4) + 1.035 * math.pow(10,-13) * math.pow(alt,3) - 5.746 * pow(10,-9) * pow(alt,2) - 2.21 * math.pow(10,-5) * alt - 0.396))\n",
    "\n",
    "    else:\n",
    "        P0.append(math.exp(4.44813 * math.pow(10,-14) * math.pow(alt,3) - 1.13434 * math.pow(10,-8) * pow(alt,2) + 7.62651 * pow(10,-4) * alt - 15.5981))\n",
    "        rho0.append(math.exp(-1.004 * math.pow(10,-18) * math.pow(alt,4) + 4.440 * math.pow(10,-13) * pow(alt,3) - 7.137 * pow(10,-8) * pow(alt,2) + 4.773 * math.pow(10,-3) * alt - 121.84))\n",
    "\n",
    "#plt.semilogy(altitudes[::500],P0[::500])\n",
    "#plt.semilogy(altitudes[::500],rho0[::500])\n",
    "#plt.xticks(np.arange(testalt[0], testP[len(testP)-1]))\n",
    "#plt.show()\n",
    "# we'll want to graph this for the appendix\n",
    "\n",
    "T0 = []\n",
    "for alt in altitudes:\n",
    "    alt=float(alt)\n",
    "    if(alt<=10000):\n",
    "        T0.append(287.954 - 5.03015 * 10**-3*alt - 1.2859 * 10**-7*alt**2)\n",
    "    elif(alt<=23000):\n",
    "        T0.append(225.15)\n",
    "    elif(alt<=42000):\n",
    "        T0.append(242.057 - 2.33854 * 10**-3*alt + 7.08133 * 10**-8*alt**2)\n",
    "    elif(alt<=81500):\n",
    "        T0.append(-534.104 + 3.95468 * 10**-2*alt - 6.0177 * 10**-7*alt**2 + 2.71838 * 10**-12*alt**3)\n",
    "    elif(alt<=120000):\n",
    "        T0.append(867.12 - 9.78603 * 10**-3*alt - 5.75164 * 10**-8*alt**2 + 8.81316 * 10**-13*alt**3)\n",
    "\n",
    "plt.plot(times[::500],altitudes[::500])\n",
    "plt.savefig(\"figures/altitude\", dpi=600)\n",
    "plt.clf()\n",
    "plt.plot(times[::500],machs[::500])\n",
    "plt.savefig(\"figures/machs\", dpi=600)\n",
    "\n",
    "#plt.show()\n",
    "\n",
    "\n",
    "#plt.plot(u)\n",
    "#plt.plot(k)\n",
    "\n"
   ]
  },
  {
   "cell_type": "code",
   "execution_count": 301,
   "metadata": {},
   "outputs": [
    {
     "name": "stdout",
     "output_type": "stream",
     "text": [
      "12479.550000000001\n"
     ]
    }
   ],
   "source": [
    "#A couple of constant\n",
    "\n",
    "beta = 0.52\n",
    "l = 0.3\n",
    "epsilon = 0.15\n",
    "sigma = 5.67*10**-8\n",
    "\n",
    "c_skin = 921\n",
    "tau_skin = 0.005\n",
    "rho_skin = 2710\n",
    "\n",
    "G=c_skin*tau_skin*rho_skin\n",
    "print(G)\n",
    "\n",
    "K= 0.89\n"
   ]
  },
  {
   "cell_type": "code",
   "execution_count": 302,
   "metadata": {},
   "outputs": [
    {
     "name": "stdout",
     "output_type": "stream",
     "text": [
      "Max temp: 348.4459774247633 K at time 65.41\n"
     ]
    },
    {
     "data": {
      "image/png": "[encoded data removed]",
      "text/plain": [
       "<Figure size 432x288 with 1 Axes>"
      ]
     },
     "metadata": {
      "needs_background": "light"
     },
     "output_type": "display_data"
    }
   ],
   "source": [
    "#initial conditions:\n",
    "\n",
    "T_N = 300\n",
    "\n",
    "#iterate through and solve\n",
    "\n",
    "skintemps = []\n",
    "Blayertemps = []\n",
    "aeroflux = []\n",
    "radflux = []\n",
    "hlog = []\n",
    "deltalog = []\n",
    "staglog = []\n",
    "skintemps.append(T_N)\n",
    "\n",
    "maxtemp = 0\n",
    "maxtemptime = 0\n",
    "\n",
    "\n",
    "prevTime = float(times[0])\n",
    "\n",
    "index = 0\n",
    "for curTime in times[1:]:\n",
    "    index+=1\n",
    "    step = float(curTime)-prevTime\n",
    "\n",
    "    c=math.sqrt(1.4*P0[index]/rho0[index])\n",
    "\n",
    "    u = machs[index]*c\n",
    "\n",
    "    mu = -1.00 * 10**-5 - 1.47 * 10**-9*T_B + 1.68 * 10**-6*T_B**0.5\n",
    "    k = (-1.29 * 10**-2 + 2.43 * 10**-5*T_B - 3.39 * 10**-9*T_B**2  + 1.88 * 10**-3*T_B**0.5)\n",
    "\n",
    "    h=(0.0071+0.0154*beta**0.5)*k/(mu**0.8*l**0.2)*rho0[index]*u\n",
    "\n",
    "    T_s = T0[index]*(1+(1.4-1)/2*machs[index]**2)\n",
    "\n",
    "    T_B = K*T_s+T0[index]*(1-K)\n",
    "\n",
    "    Qdot_aero = h*(T_B-T_N)\n",
    "\n",
    "    Qdot_rad = epsilon*sigma*(0*T0[index]**4-T_N**4)\n",
    "\n",
    "   \n",
    "\n",
    "    deltaT_N = step*(Qdot_aero+Qdot_rad)/G\n",
    "\n",
    "    T_N+=deltaT_N\n",
    "\n",
    "    skintemps.append(T_N)\n",
    "    aeroflux.append(Qdot_aero)\n",
    "    radflux.append(Qdot_rad)\n",
    "    Blayertemps.append(T_B)\n",
    "    hlog.append(h)\n",
    "    deltalog.append(deltaT_N)\n",
    "    staglog.append(T_s)\n",
    "\n",
    "    if(T_N>maxtemp):\n",
    "        maxtemp=T_N\n",
    "        maxtemptime = times[index]\n",
    "\n",
    "    #setup for next iter\n",
    "    prevTime = float(curTime)\n",
    "\n",
    "plt.plot(times[::100],skintemps[::100])\n",
    "#plt.plot(times[::100],staglog[::100])\n",
    "#plt.plot(times[::500],Blayertemps[::500])\n",
    "\n",
    "#plt.plot(times[::500],hlog[::500])\n",
    "#plt.plot(times[::500],deltalog[::500])\n",
    "\n",
    "plt.savefig(\"figures/tempprofile\",dpi=600)\n",
    "plt.clf()\n",
    "\n",
    "print(f\"Max temp: {maxtemp} K at time {maxtemptime}\")\n",
    "\n",
    "plt.plot(times[::500],aeroflux[::500], label=\"$\\dot{Q}_{aero}$\")\n",
    "plt.plot(times[::500],radflux[::500], label=\"$\\dot{Q}_{rad}$\")\n",
    "plt.legend()\n",
    "\n",
    "plt.savefig(\"figures/flux\",dpi=600)\n",
    "\n",
    "\n",
    "\n",
    "plt.show()\n"
   ]
  }
 ],
 "metadata": {
  "kernelspec": {
   "display_name": "Python 3.7.7 64-bit",
   "language": "python",
   "name": "python3"
  },
  "language_info": {
   "codemirror_mode": {
    "name": "ipython",
    "version": 3
   },
   "file_extension": ".py",
   "mimetype": "text/x-python",
   "name": "python",
   "nbconvert_exporter": "python",
   "pygments_lexer": "ipython3",
   "version": "3.7.7"
  },
  "orig_nbformat": 4,
  "vscode": {
   "interpreter": {
    "hash": "da0c09f19f7f9822f28d566e348786b68afa288042b105999b2f8ac243a6440a"
   }
  }
 },
 "nbformat": 4,
 "nbformat_minor": 2
}
