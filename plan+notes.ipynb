{
 "cells": [
  {
   "cell_type": "markdown",
   "metadata": {},
   "source": [
    "Ok, time to somehow do this in 3 days. Buckle up fuckers, it's report time.\n",
    "\n",
    "# Plan\n",
    "\n",
    "1. Review what I said I would do and the feedback\n",
    "   - My presentation\n",
    "   - Notes I made on feedback\n",
    "2. Model the situation in python\n",
    "   - Maybe at 2 separate points - on the ground (good to start with) and in the air\n",
    "   - Figure out all the equations to use \n",
    "   - run the simulaitons, adjust to make sure it's reasonalble\n",
    "3. Write the report\n",
    "   - figure out how to turn the above data into something presentable\n",
    "   - somehow write 2500 words on it.\n",
    "\n",
    "\n",
    "Wow. That makes it all look so simple. Let's get started. \n",
    "\n"
   ]
  },
  {
   "cell_type": "markdown",
   "metadata": {},
   "source": [
    "## On the surface, waiting to launch\n",
    "Model worst case scenario - sideways, full sun, no wind\n",
    "\n"
   ]
  }
 ],
 "metadata": {
  "language_info": {
   "name": "python"
  },
  "orig_nbformat": 4
 },
 "nbformat": 4,
 "nbformat_minor": 2
}
